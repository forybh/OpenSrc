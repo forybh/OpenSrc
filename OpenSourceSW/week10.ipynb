{
 "cells": [
  {
   "cell_type": "markdown",
   "metadata": {},
   "source": [
    "# 실습 2 숫자 최대값 구하기"
   ]
  },
  {
   "cell_type": "code",
   "execution_count": null,
   "metadata": {},
   "outputs": [],
   "source": [
    "a = list(map(int,input(\"숫자들을 입력하시오\").split(\" \")))\n",
    "print(max(a))"
   ]
  },
  {
   "cell_type": "markdown",
   "metadata": {},
   "source": [
    "# 실습 3 암호화/복호화"
   ]
  },
  {
   "cell_type": "code",
   "execution_count": 28,
   "metadata": {},
   "outputs": [
    {
     "name": "stdout",
     "output_type": "stream",
     "text": [
      "input string: abc def\n",
      "['def', 'abc']\n",
      "efg bcd\n",
      "input string: efg bcd\n",
      "abc def\n"
     ]
    }
   ],
   "source": [
    "def encry():\n",
    "    s = input(\"암호화 할 input string: \").split(\" \")\n",
    "    s.reverse()\n",
    "    result = []\n",
    "    for e in s:\n",
    "        temp = list(map(lambda x: chr(ord(x)+1),e))\n",
    "        temp = \"\".join(temp)\n",
    "        result.append(temp)      \n",
    "    print(\" \".join(result))\n",
    "def decode():\n",
    "    s = input(\"복호화 할 input string: \").split(\" \")\n",
    "    s.reverse()\n",
    "    result = []\n",
    "    for e in s:\n",
    "        temp = list(map(lambda x: chr(ord(x)-1),e))\n",
    "        temp = \"\".join(temp)\n",
    "        result.append(temp)      \n",
    "    print(\" \".join(result))\n",
    "encry()\n",
    "decode()"
   ]
  },
  {
   "cell_type": "markdown",
   "metadata": {},
   "source": [
    "# 실습 4 이름/전화번호 검색"
   ]
  },
  {
   "cell_type": "code",
   "execution_count": 1,
   "metadata": {},
   "outputs": [
    {
     "name": "stdout",
     "output_type": "stream",
     "text": [
      "이름과 전화번호를 입력하시오a 1\n",
      "이름과 전화번호를 입력하시오b 2\n",
      "이름과 전화번호를 입력하시오c 3\n",
      "이름과 전화번호를 입력하시오g 4\n",
      "이름과 전화번호를 입력하시오h 3\n",
      "이름과 전화번호를 입력하시오n 6\n",
      "이름과 전화번호를 입력하시오k 1\n",
      "이름과 전화번호를 입력하시오l 4\n",
      "이름과 전화번호를 입력하시오m 6\n",
      "이름과 전화번호를 입력하시오a 0\n",
      "1. 이름으로 검색\n",
      "2. 전화번호로 검색\n",
      ">2\n",
      "전화번호를 입력하시오3\n",
      "c 3\n",
      "h 3\n"
     ]
    }
   ],
   "source": [
    "dict = {}\n",
    "for i in range(10):\n",
    "    temp = input(\"이름과 전화번호를 입력하시오\").split()\n",
    "    dict[temp[0]] = temp[1]\n",
    "def findbyname():\n",
    "    name = input(\"이름을 입력하시오\")\n",
    "    for key in dict.keys():\n",
    "        if key == name:\n",
    "            print(key, dict[key])\n",
    "def findbyphone():\n",
    "    phone = input(\"전화번호를 입력하시오\")\n",
    "    for key, value in dict.items():\n",
    "        if value == phone:\n",
    "            print(key, value)\n",
    "            \n",
    "menu = input(\"1. 이름으로 검색\\n2. 전화번호로 검색\\n>\")\n",
    "if menu == '1':\n",
    "    findbyname()\n",
    "elif menu == '2':\n",
    "    findbyphone()\n",
    "else: print(\"메뉴는 1과 2로만 입력하세요.\")\n",
    "\n"
   ]
  },
  {
   "cell_type": "code",
   "execution_count": null,
   "metadata": {},
   "outputs": [],
   "source": []
  },
  {
   "cell_type": "code",
   "execution_count": null,
   "metadata": {},
   "outputs": [],
   "source": []
  }
 ],
 "metadata": {
  "kernelspec": {
   "display_name": "Python 3",
   "language": "python",
   "name": "python3"
  },
  "language_info": {
   "codemirror_mode": {
    "name": "ipython",
    "version": 3
   },
   "file_extension": ".py",
   "mimetype": "text/x-python",
   "name": "python",
   "nbconvert_exporter": "python",
   "pygments_lexer": "ipython3",
   "version": "3.8.3"
  }
 },
 "nbformat": 4,
 "nbformat_minor": 4
}
