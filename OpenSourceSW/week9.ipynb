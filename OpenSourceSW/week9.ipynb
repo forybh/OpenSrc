{
 "cells": [
  {
   "cell_type": "code",
   "execution_count": 7,
   "metadata": {},
   "outputs": [
    {
     "name": "stdout",
     "output_type": "stream",
     "text": [
      "x 값을 입력하시오 : 10\n",
      "y = : 353\n"
     ]
    }
   ],
   "source": [
    "x = int(input(\"x 값을 입력하시오 : \"))\n",
    "y = 3*(x**2) + 5*x + 3\n",
    "print(\"y = : \" + str(y))"
   ]
  },
  {
   "cell_type": "code",
   "execution_count": 8,
   "metadata": {},
   "outputs": [
    {
     "name": "stdout",
     "output_type": "stream",
     "text": [
      "반지름을 입력하시오 : 3\n",
      "둘레 : 18.84\n",
      "넓이 : 28.26\n"
     ]
    }
   ],
   "source": [
    "r = int(input(\"반지름을 입력하시오 : \"))\n",
    "periphery = 2 * 3.14 * r \n",
    "area = 3.14 * (r**2)\n",
    "print(\"둘레 : \" + str(periphery) + \"\\n넓이 : \" + str(area))"
   ]
  },
  {
   "cell_type": "code",
   "execution_count": null,
   "metadata": {},
   "outputs": [],
   "source": []
  }
 ],
 "metadata": {
  "kernelspec": {
   "display_name": "Python 3",
   "language": "python",
   "name": "python3"
  },
  "language_info": {
   "codemirror_mode": {
    "name": "ipython",
    "version": 3
   },
   "file_extension": ".py",
   "mimetype": "text/x-python",
   "name": "python",
   "nbconvert_exporter": "python",
   "pygments_lexer": "ipython3",
   "version": "3.8.3"
  }
 },
 "nbformat": 4,
 "nbformat_minor": 4
}
