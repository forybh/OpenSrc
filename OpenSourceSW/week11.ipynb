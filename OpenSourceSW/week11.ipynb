{
 "cells": [
  {
   "cell_type": "markdown",
   "metadata": {},
   "source": [
    "# 실습 6 COPY"
   ]
  },
  {
   "cell_type": "code",
   "execution_count": 1,
   "metadata": {
    "scrolled": true
   },
   "outputs": [],
   "source": [
    "%%writefile cp.py\n",
    "import sys\n",
    "file1 = sys.argv[1]\n",
    "file2 = sys.argv[2]\n",
    "\n",
    "f1 = open(file1, 'r')\n",
    "lines = f1.readlines()\n",
    "f1.close()\n",
    "\n",
    "f2 = open(file2, 'w')\n",
    "for line in lines:\n",
    "    f2.write(line)\n",
    "f2.close()\n"
   ]
  },
  {
   "cell_type": "markdown",
   "metadata": {},
   "source": [
    "# 실습 6 실행"
   ]
  },
  {
   "cell_type": "code",
   "execution_count": 2,
   "metadata": {},
   "outputs": [],
   "source": [
    "!python cp.py file1.txt file2.txt\n"
   ]
  },
  {
   "cell_type": "markdown",
   "metadata": {},
   "source": [
    "# 실습 7 WC"
   ]
  },
  {
   "cell_type": "code",
   "execution_count": 3,
   "metadata": {},
   "outputs": [
    {
     "name": "stdout",
     "output_type": "stream",
     "text": [
      "Overwriting wc.py\n"
     ]
    }
   ],
   "source": [
    "%%writefile wc.py\n",
    "import sys\n",
    "file1 = sys.argv[1]\n",
    "\n",
    "f1 = open(file1, 'r')\n",
    "lines = f1.readlines()\n",
    "f1.close()\n",
    "\n",
    "words  = 0\n",
    "for line in lines:\n",
    "    print(line)\n",
    "    words += len(line.split(\" \"))\n",
    "\n",
    "print(\"number of lines : \", len(lines))\n",
    "print(\"number of words : \", words)\n"
   ]
  },
  {
   "cell_type": "markdown",
   "metadata": {},
   "source": [
    "# 실습 7 실행"
   ]
  },
  {
   "cell_type": "code",
   "execution_count": 4,
   "metadata": {},
   "outputs": [
    {
     "name": "stdout",
     "output_type": "stream",
     "text": [
      "201611273\r\n",
      "\r\n",
      "유병헌\r\n",
      "\r\n",
      "cp.py 실험용 텍스트파일\r\n",
      "\r\n",
      "number of lines :  3\r\n",
      "number of words :  5\r\n"
     ]
    }
   ],
   "source": [
    "!python wc.py file1.txt"
   ]
  },
  {
   "cell_type": "markdown",
   "metadata": {},
   "source": [
    "# 실습 8 사칙연산클래스"
   ]
  },
  {
   "cell_type": "code",
   "execution_count": 5,
   "metadata": {},
   "outputs": [
    {
     "name": "stdout",
     "output_type": "stream",
     "text": [
      "Overwriting class_ex.py\n"
     ]
    }
   ],
   "source": [
    "%%writefile class_ex.py\n",
    "# -*- coding : cp040 -*-\n",
    "class Calc:\n",
    "    def sum(self, a, b):\n",
    "        result = a + b\n",
    "        print(\"{0:d} + {1:d} = {2:d} 입니다\".format(a, b, result))\n",
    "    def substraction(self, a, b):\n",
    "        result = a - b\n",
    "        print(\"{0:d} - {1:d} = {2:d} 입니다\".format(a, b, result))\n",
    "    \n",
    "    def multiplication(self, a, b):\n",
    "        result = a * b\n",
    "        print(\"{0:d} * {1:d} = {2:d} 입니다\".format(a, b, result))\n",
    "    \n",
    "    def division(self, a, b):\n",
    "        result = a / b\n",
    "        print(\"{0:d} / {1:d} = {2:.1f} 입니다\".format(a, b, result))\n",
    "        \n",
    "    "
   ]
  },
  {
   "cell_type": "markdown",
   "metadata": {},
   "source": [
    "# 실습 8 실행"
   ]
  },
  {
   "cell_type": "code",
   "execution_count": 6,
   "metadata": {},
   "outputs": [
    {
     "name": "stdout",
     "output_type": "stream",
     "text": [
      "1 + 3 = 4 입니다\n",
      "5 - 2 = 3 입니다\n",
      "4 * 3 = 12 입니다\n",
      "4 / 2 = 2.0 입니다\n"
     ]
    }
   ],
   "source": [
    "from class_ex import Calc\n",
    "\n",
    "calc = Calc()\n",
    "calc.sum(1,3)\n",
    "calc.substraction(5,2)\n",
    "calc.multiplication(4,3)\n",
    "calc.division(4,2)"
   ]
  },
  {
   "cell_type": "markdown",
   "metadata": {},
   "source": [
    "# 실습 9 스택 클래스 구현"
   ]
  },
  {
   "cell_type": "code",
   "execution_count": 7,
   "metadata": {},
   "outputs": [
    {
     "name": "stdout",
     "output_type": "stream",
     "text": [
      "Overwriting class_stack.py\n"
     ]
    }
   ],
   "source": [
    "%%writefile class_stack.py\n",
    "# -*- coding : cp040 -*-\n",
    "class Stack:\n",
    "    def __init__(self):\n",
    "        self.data = []\n",
    "    \n",
    "    def is_Empty(self):\n",
    "        return True if not self.data else False\n",
    " \n",
    "    def size(self):\n",
    "        return len(self.data)\n",
    " \n",
    "    def push(self, item):\n",
    "        return self.data.append(item)\n",
    " \n",
    "    def pop(self):\n",
    "        return self.data.pop()\n",
    "    \n",
    "    def peek(self):\n",
    "        return self.data[-1]\n"
   ]
  },
  {
   "cell_type": "markdown",
   "metadata": {},
   "source": [
    "# 실습 9 스택 계산기\n",
    "\n",
    "## 강의 자료에 나온대로 중위 표현식으로 계산"
   ]
  },
  {
   "cell_type": "code",
   "execution_count": 8,
   "metadata": {},
   "outputs": [
    {
     "name": "stdout",
     "output_type": "stream",
     "text": [
      "계산식 입력 : 1 + 2 - 3 * 4 + 5\n",
      "계산값 출력 : 1+2-3*4+5=-4.0\n"
     ]
    }
   ],
   "source": [
    "from class_stack import Stack\n",
    "num_stack = Stack()\n",
    "op_stack = Stack()\n",
    "calc = input(\"계산식 입력 : \").split(\" \")\n",
    "num = calc[::2]\n",
    "op = calc[1::2]\n",
    "\n",
    "result = 0\n",
    "\n",
    "while num and op :\n",
    "    num_stack.push(num.pop(0))\n",
    "    op_stack.push(op.pop(0))\n",
    "    if num_stack.size() <= 1:\n",
    "        num_stack.push(num.pop(0))\n",
    "    if op_stack.peek() in '*/':\n",
    "        if op_stack.peek() == '*':\n",
    "            op_stack.pop()\n",
    "            temp = float(num_stack.pop()) * float(num_stack.pop())\n",
    "            num_stack.push(str(temp))\n",
    "        elif op_stack.peek() == '/':\n",
    "            op_stack.pop()\n",
    "            a = float(num_stack.pop())\n",
    "            b = float(num_stack.pop())\n",
    "            temp = b/a\n",
    "            num_stack.push(str(temp))\n",
    "\n",
    "    else:\n",
    "        while(True):\n",
    "            if len(op) == 0:\n",
    "                break\n",
    "            if op[0] not in \"/*\":\n",
    "                break\n",
    "            if op[0] in \"/*\":\n",
    "                num_stack.push(num.pop(0))\n",
    "                op_stack.push(op.pop(0))\n",
    "\n",
    "                if op_stack.peek() == '*':\n",
    "                    op_stack.pop()\n",
    "                    temp = float(num_stack.pop()) * float(num_stack.pop())\n",
    "                    num_stack.push(str(temp))\n",
    "\n",
    "                elif op_stack.peek() == '/':\n",
    "                    op_stack.pop()\n",
    "                    a = float(num_stack.pop())\n",
    "                    b = float(num_stack.pop())\n",
    "                    temp = b/a\n",
    "                    num_stack.push(str(temp))\n",
    "\n",
    "        if op_stack.peek() == '+':\n",
    "            op_stack.pop()\n",
    "            temp = float(num_stack.pop()) + float(num_stack.pop())\n",
    "            num_stack.push(str(temp))\n",
    "        elif op_stack.peek() == '-':\n",
    "            op_stack.pop()\n",
    "            a = float(num_stack.pop())\n",
    "            b = float(num_stack.pop())\n",
    "            temp = b - a\n",
    "            num_stack.push(str(temp))\n",
    "\n",
    "if not op_stack.is_Empty():\n",
    "    op = op_stack.pop()\n",
    "    if op == '+': result = float(num_stack.pop()) + float(num_stack.pop())\n",
    "    elif op == '-':\n",
    "        a = float(num_stack.pop())\n",
    "        b = float(num_stack.pop())\n",
    "        result = b - a\n",
    "    elif op == '*': result = float(num_stack.pop()) * float(num_stack.pop())\n",
    "    else: \n",
    "        a = float(num_stack.pop())\n",
    "        b = float(num_stack.pop())\n",
    "        result = b / a\n",
    "else:          \n",
    "    result = float(num_stack.pop())\n",
    "print(\"계산값 출력 : {0:s}={1:.1f}\".format(\"\".join(calc), result))\n",
    "    \n",
    "    "
   ]
  },
  {
   "cell_type": "code",
   "execution_count": null,
   "metadata": {},
   "outputs": [],
   "source": []
  },
  {
   "cell_type": "code",
   "execution_count": null,
   "metadata": {},
   "outputs": [],
   "source": []
  }
 ],
 "metadata": {
  "kernelspec": {
   "display_name": "Python 3",
   "language": "python",
   "name": "python3"
  },
  "language_info": {
   "codemirror_mode": {
    "name": "ipython",
    "version": 3
   },
   "file_extension": ".py",
   "mimetype": "text/x-python",
   "name": "python",
   "nbconvert_exporter": "python",
   "pygments_lexer": "ipython3",
   "version": "3.8.3"
  }
 },
 "nbformat": 4,
 "nbformat_minor": 4
}
