{
 "cells": [
  {
   "cell_type": "markdown",
   "metadata": {},
   "source": [
    "## 1번"
   ]
  },
  {
   "cell_type": "code",
   "execution_count": 86,
   "metadata": {},
   "outputs": [
    {
     "name": "stdout",
     "output_type": "stream",
     "text": [
      "(1, 2)\n",
      "(3, 4)\n"
     ]
    },
    {
     "ename": "TypeError",
     "evalue": "'Point' object is not subscriptable",
     "output_type": "error",
     "traceback": [
      "\u001b[0;31m---------------------------------------------------------------------------\u001b[0m",
      "\u001b[0;31mTypeError\u001b[0m                                 Traceback (most recent call last)",
      "\u001b[0;32m<ipython-input-86-ae917396afed>\u001b[0m in \u001b[0;36m<module>\u001b[0;34m\u001b[0m\n\u001b[1;32m     17\u001b[0m \u001b[0mb\u001b[0m\u001b[0;34m.\u001b[0m\u001b[0mshow\u001b[0m\u001b[0;34m(\u001b[0m\u001b[0;34m)\u001b[0m\u001b[0;34m\u001b[0m\u001b[0;34m\u001b[0m\u001b[0m\n\u001b[1;32m     18\u001b[0m \u001b[0;34m\u001b[0m\u001b[0m\n\u001b[0;32m---> 19\u001b[0;31m \u001b[0ma\u001b[0m \u001b[0;34m+\u001b[0m \u001b[0mb\u001b[0m\u001b[0;34m\u001b[0m\u001b[0;34m\u001b[0m\u001b[0m\n\u001b[0m",
      "\u001b[0;32m<ipython-input-86-ae917396afed>\u001b[0m in \u001b[0;36m__add__\u001b[0;34m(self, x)\u001b[0m\n\u001b[1;32m      7\u001b[0m \u001b[0;34m\u001b[0m\u001b[0m\n\u001b[1;32m      8\u001b[0m     \u001b[0;32mdef\u001b[0m \u001b[0m__add__\u001b[0m\u001b[0;34m(\u001b[0m\u001b[0mself\u001b[0m\u001b[0;34m,\u001b[0m \u001b[0mx\u001b[0m\u001b[0;34m)\u001b[0m\u001b[0;34m:\u001b[0m\u001b[0;34m\u001b[0m\u001b[0;34m\u001b[0m\u001b[0m\n\u001b[0;32m----> 9\u001b[0;31m         \u001b[0;32mreturn\u001b[0m \u001b[0mPoint\u001b[0m\u001b[0;34m(\u001b[0m\u001b[0mx\u001b[0m\u001b[0;34m[\u001b[0m\u001b[0;36m0\u001b[0m\u001b[0;34m]\u001b[0m\u001b[0;34m+\u001b[0m\u001b[0mself\u001b[0m\u001b[0;34m.\u001b[0m\u001b[0ma\u001b[0m\u001b[0;34m,\u001b[0m \u001b[0mx\u001b[0m\u001b[0;34m[\u001b[0m\u001b[0;36m1\u001b[0m\u001b[0;34m]\u001b[0m\u001b[0;34m+\u001b[0m\u001b[0mself\u001b[0m\u001b[0;34m.\u001b[0m\u001b[0mb\u001b[0m\u001b[0;34m)\u001b[0m\u001b[0;34m\u001b[0m\u001b[0;34m\u001b[0m\u001b[0m\n\u001b[0m\u001b[1;32m     10\u001b[0m \u001b[0;34m\u001b[0m\u001b[0m\n\u001b[1;32m     11\u001b[0m     \u001b[0;32mdef\u001b[0m \u001b[0mshow\u001b[0m\u001b[0;34m(\u001b[0m\u001b[0mself\u001b[0m\u001b[0;34m)\u001b[0m\u001b[0;34m:\u001b[0m\u001b[0;34m\u001b[0m\u001b[0;34m\u001b[0m\u001b[0m\n",
      "\u001b[0;31mTypeError\u001b[0m: 'Point' object is not subscriptable"
     ]
    }
   ],
   "source": [
    "class Point:\n",
    "    a = 0\n",
    "    b = 0\n",
    "    def __init__(self, a, b):\n",
    "        self.a = a\n",
    "        self.b = b\n",
    "        \n",
    "    def __add__(self, x):\n",
    "        return Point(x[0]+self.a, x[1]+self.b)\n",
    "        \n",
    "    def show(self):\n",
    "        print((self.a , self.b))\n",
    "        \n",
    "a = Point(1,2)\n",
    "a.show()        \n",
    "b = Point(3,4)\n",
    "b.show()\n",
    "\n",
    "a + b\n"
   ]
  },
  {
   "cell_type": "markdown",
   "metadata": {},
   "source": [
    "## 2번"
   ]
  },
  {
   "cell_type": "code",
   "execution_count": 25,
   "metadata": {},
   "outputs": [
    {
     "name": "stdout",
     "output_type": "stream",
     "text": [
      "Max Week = 2021-05-08~2021-05-14\n"
     ]
    }
   ],
   "source": [
    "import csv\n",
    "import matplotlib.pyplot as plt\n",
    "import numpy as np\n",
    "\n",
    "f = open('seoul.csv', 'r', encoding='cp949')\n",
    "data = csv.reader(f)\n",
    "next(data)\n",
    "\n",
    "max_temp = 0\n",
    "temp_list = []\n",
    "date_list = []\n",
    "i = 0 \n",
    "start_date = \"\"\n",
    "end_date = \"\"\n",
    "for line in data:\n",
    "    if i == 0:\n",
    "        start_date = line[0]\n",
    "    if i == 6:\n",
    "        end_date = line[0]\n",
    "    max_temp += float(line[4])-float(line[3])\n",
    "    if i == 6:\n",
    "        temp_list.append(max_temp)\n",
    "        date_list.append([start_date, end_date])\n",
    "        max_temp = 0\n",
    "        i = 0\n",
    "        continue\n",
    "    i +=1\n",
    "max_week = temp_list.index(max(temp_list))\n",
    "print(f\"Max Week = {date_list[max_week][0]}~{date_list[max_week][1]}\")\n",
    "\n",
    "    \n",
    "    "
   ]
  },
  {
   "cell_type": "markdown",
   "metadata": {},
   "source": [
    "## 3번"
   ]
  },
  {
   "cell_type": "code",
   "execution_count": 69,
   "metadata": {},
   "outputs": [
    {
     "name": "stdout",
     "output_type": "stream",
     "text": [
      "2.0\n",
      "1.7320508075688772\n",
      "2.0\n",
      "1.7320508075688772\n",
      "1.7320508075688772\n",
      "1.7320508075688772\n",
      "[0.5358983848622454, 0.8038475772933681, 0.5773502691896258]\n"
     ]
    },
    {
     "data": {
      "image/png": "[encoded data removed]",
      "text/plain": [
       "<Figure size 432x288 with 1 Axes>"
      ]
     },
     "metadata": {
      "needs_background": "light"
     },
     "output_type": "display_data"
    }
   ],
   "source": [
    "Docs = np.array([[1, 1, 0, 1, 0, 1], [1, 1, 1, 0, 1, 0], [1, 1, 0, 1, 0 ,0]])\n",
    "Query = np.array([1, 1, 0, 0, 1, 0])\n",
    "\n",
    "def cos(Docs, Query):\n",
    "    doc_sum = np.sum(Docs)\n",
    "    query_sum = np.sum(Query)\n",
    "    DocsQuery = np.dot(Docs, Query.T)\n",
    "    result = []\n",
    "    for i in range(3):\n",
    "        doc_size = np.sum(Docs[i]) ** 0.5\n",
    "        query_size = np.sum(Query) ** 0.5\n",
    "        print(doc_size)\n",
    "        print(query_size)\n",
    "        temp = DocsQuery[i] / ((abs(np.sum(Docs[i])) **0.5) + (abs(np.sum(Query))** 0.5))\n",
    "        result.append(temp)\n",
    "    print(result)\n",
    "    return result\n",
    "result = cos(Docs,Query)\n",
    "str_result = list(map(lambda x: str(x)[0:4], result))\n",
    "plt.title('Cosine similarities')\n",
    "plt.bar([\"doc1=\"+str_result[0], \"doc2=\"+str_result[1], \"doc3=\"+str_result[2]],result)\n",
    "plt.show()\n"
   ]
  },
  {
   "cell_type": "code",
   "execution_count": 74,
   "metadata": {},
   "outputs": [
    {
     "ename": "SyntaxError",
     "evalue": "invalid syntax (<ipython-input-74-083659f89be1>, line 1)",
     "output_type": "error",
     "traceback": [
      "\u001b[0;36m  File \u001b[0;32m\"<ipython-input-74-083659f89be1>\"\u001b[0;36m, line \u001b[0;32m1\u001b[0m\n\u001b[0;31m    help(def)\u001b[0m\n\u001b[0m         ^\u001b[0m\n\u001b[0;31mSyntaxError\u001b[0m\u001b[0;31m:\u001b[0m invalid syntax\n"
     ]
    }
   ],
   "source": [
    "help(def)"
   ]
  },
  {
   "cell_type": "code",
   "execution_count": null,
   "metadata": {},
   "outputs": [],
   "source": []
  },
  {
   "cell_type": "code",
   "execution_count": null,
   "metadata": {},
   "outputs": [],
   "source": []
  }
 ],
 "metadata": {
  "kernelspec": {
   "display_name": "Python 3",
   "language": "python",
   "name": "python3"
  },
  "language_info": {
   "codemirror_mode": {
    "name": "ipython",
    "version": 3
   },
   "file_extension": ".py",
   "mimetype": "text/x-python",
   "name": "python",
   "nbconvert_exporter": "python",
   "pygments_lexer": "ipython3",
   "version": "3.8.3"
  }
 },
 "nbformat": 4,
 "nbformat_minor": 4
}
